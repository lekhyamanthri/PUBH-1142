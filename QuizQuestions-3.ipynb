{
 "cells": [
  {
   "cell_type": "markdown",
   "id": "c8e8c544",
   "metadata": {},
   "source": [
    "# ****Quiz 3 Questions****"
   ]
  },
  {
   "cell_type": "markdown",
   "id": "135c7ee5",
   "metadata": {},
   "source": [
    "###  <span style=\"color: pink;\">**Question 1**: What is the primary goal of data anonymization?</span>\n",
    "##### <span style=\"color: pink;\">**Answer**: The primary goal of data anonymization is to make it either impossible or difficult to identify which individual the data belongs to, while still allowing the data to be useful for research"
   ]
  },
  {
   "cell_type": "markdown",
   "id": "07085b14",
   "metadata": {},
   "source": [
    "###  <span style=\"color: orange;\">**Question 2**: What is the Havasupai Tribe case about?</span>\n",
    "##### <span style=\"color: orange;\">**Answer**: This was a case regarding the misuse of individual health data. Researchers approached this tribe to conduct a study regarding the tribe's high prevalence in Type 2 diabetes. The researchers collected their blood samples for further research, and although they assured them the samples would be used to investigate diabetes within the tribe's community, the researchers used the blood samples for additional studies without any further consent. \n",
    "\n"
   ]
  },
  {
   "cell_type": "markdown",
   "id": "9d55672a",
   "metadata": {},
   "source": [
    "###  <span style=\"color: red;\">**Question 3**: What is the largest health data branch in history?</span>\n",
    "##### <span style=\"color: red;\">**Answer**: The largest health data branch in history is Anthem Inc. \n",
    "\n"
   ]
  },
  {
   "cell_type": "markdown",
   "id": "4788ae0a",
   "metadata": {},
   "source": [
    "###  <span style=\"color: green;\">**Question 4**: What is the pulse oximeter controversy about?</span>\n",
    "##### <span style=\"color: green;\">**Answer**: The pulse oximeter controversy illuminates the hidden biases within health data and technology. It tells us to actively seek out and address such biases, as ensuring the inclusivity and fairness of health data is very important and necessary in order to deliver safe and effective healthcare to all. "
   ]
  },
  {
   "cell_type": "markdown",
   "id": "679a2bc4",
   "metadata": {},
   "source": [
    "###  <span style=\"color: purple;\">**Question 5**: What is the role of an Institutional Review Board (IRB) in research?</span>\n",
    "##### <span style=\"color: purple;\">**Answer**: IRBs are indpendent committees composed of diverse members who review and monitor research involving human subjects. Their responsibility is to ensure that the research is conducted ethically and that the rights and welfare of the participants are adequately protected.   \n"
   ]
  },
  {
   "cell_type": "markdown",
   "id": "0f6ba34e",
   "metadata": {},
   "source": [
    "###  <span style=\"color: blue;\">**Question 6**: What is the difference between spreadsheet software and database software for health data management?</span>\n",
    "##### <span style=\"color: blue;\">**Answer**: A spreadsheet is a file made of rows and columns that help organize data efficiently. Spreadsheets are a popular choice because they are easy to use and can be used for tasks like data entry or data analysis (two tasks that are very widely followed in the field of health data management). On the other hand, a database is a structured set of data. It is a collection of information that can be easily managed. Databases can store health data about individuals in an organized manner. Databases are managed by a Database Management System, which provides users with the tools to edit data or generate reports (regarding health, or anything else.)\n"
   ]
  },
  {
   "cell_type": "markdown",
   "id": "b7cc9d49",
   "metadata": {},
   "source": [
    "###  <span style=\"color: pink;\">**Question 7**: What is a conflict of interest in public health research?</span>\n",
    "##### <span style=\"color: pink;\">**Answer**: A conflict of interest in public health research refers to a situation where a person or organization involved in the research has a secondary interest that could influence or bias the conduct, findings or reporting of the research. The secondary interest could be personal, financial, political, etc. "
   ]
  },
  {
   "cell_type": "markdown",
   "id": "194cfb3a",
   "metadata": {},
   "source": [
    "###  <span style=\"color: orange;\">**Question 8**: What is informed consent in the context of health data collection?</span>\n",
    "##### <span style=\"color: orange;\">**Answer**: Informed consent requires that individuals are provided with sufficient information to make an educated decision about their participation. This includes information about the purpose of the data collection, how the data will be used, who will have access to it, the potential risks and benefits and the individual's right to withdraw their consent at any time. \n",
    "\n",
    "\n",
    "\n",
    "\n",
    "\n",
    "\n"
   ]
  },
  {
   "cell_type": "markdown",
   "id": "46ef1ea5",
   "metadata": {},
   "source": [
    "###  <span style=\"color: red;\">**Question 9**: What is data masking in the context of de-identification of health data? </span>\n",
    "##### <span style=\"color: red;\">**Answer**: Data Masking is when identifiable information is replaced with random characters, or removed entirely. This allows for privacy among individuals and prevents others from identifying them through the health data. "
   ]
  },
  {
   "cell_type": "markdown",
   "id": "ff2f467d",
   "metadata": {},
   "source": [
    "###  <span style=\"color: green;\">**Question 10**: What is the principle of k-anonymity in the context of de-identification of health data? </span>\n",
    "##### <span style=\"color: green;\">**Answer**: This technique involves grouping the data in such a way that each group contains atleast k records, thereby making it difficult to single out individuals.  "
   ]
  },
  {
   "cell_type": "markdown",
   "id": "7e728d3c",
   "metadata": {},
   "source": [
    "###  <span style=\"color: purple;\">**Question 11**: What is the main concern about conflicts of interest in public health research?</span>\n",
    "##### <span style=\"color: purple;\">**Answer**:  Conflicts in public health research could have serious implications, such as: bias in research, loss of public trust and damage to research integrity. These implications raise concerns because they can undermine public confidence in research findings and decrease public engagement with health initiatives. "
   ]
  },
  {
   "cell_type": "markdown",
   "id": "56f0177a",
   "metadata": {},
   "source": [
    "###  <span style=\"color: blue;\">**Question 12**: What is the first step in managing conflicts of interest in public health research? </span>\n",
    "##### <span style=\"color: blue;\">**Answer**: The first step in managing conflicts of interest in public health research is transparency.\n",
    "\n"
   ]
  },
  {
   "cell_type": "markdown",
   "id": "62fca85b",
   "metadata": {},
   "source": [
    "###  <span style=\"color: pink;\">**Question 13**: What is the role of independent oversight in managing conflicts of interest in public health research? </span>\n",
    "##### <span style=\"color: pink;\">**Answer**: The role of independent oversight in managing conflicts of interest in public health research is that it involves having a seperate committee review research proposals for potential conflicts, monitor outgoing research or review findings before publication. Independent oversight can provide an additional layer of scrutiny and help ensure that conflicts of interest do not compromise the research. \n",
    "\n"
   ]
  },
  {
   "cell_type": "markdown",
   "id": "547774d4",
   "metadata": {},
   "source": [
    "###  <span style=\"color: orange;\">**Question 14**: What is one strategy for mitigating conflicts of interest in public health research?  </span>\n",
    "##### <span style=\"color: orange;\">**Answer**: One strategy for mitigating conflicts of interest in public health research is avoidance. In some cases, the best way to manage a conflict is to avoid it altogether. This might involve choosing not to participate in certain research. "
   ]
  },
  {
   "cell_type": "markdown",
   "id": "3f32bd58",
   "metadata": {},
   "source": [
    "###  <span style=\"color: red;\">**Question 15**: What is the potential impact of not properly managing conflicts of interest in public health research?  </span>\n",
    "##### <span style=\"color: red;\">**Answer**: The potential impact of not properly managing conflicts of interest in public health data is bias in research, loss of public trust and damage to research integrity. "
   ]
  }
 ],
 "metadata": {
  "language_info": {
   "name": "python"
  }
 },
 "nbformat": 4,
 "nbformat_minor": 5
}
