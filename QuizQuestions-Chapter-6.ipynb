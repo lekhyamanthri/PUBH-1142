{
 "cells": [
  {
   "cell_type": "markdown",
   "id": "26d45d8e",
   "metadata": {},
   "source": [
    "# Quiz 6 Questions"
   ]
  },
  {
   "cell_type": "markdown",
   "id": "881acd6e",
   "metadata": {},
   "source": [
    "##### <span style=\"color: red;\">**Question 1**\n"
   ]
  },
  {
   "cell_type": "code",
   "execution_count": null,
   "id": "de972cf7",
   "metadata": {},
   "outputs": [
    {
     "data": {
      "text/plain": [
       "8.0"
      ]
     },
     "execution_count": 3,
     "metadata": {},
     "output_type": "execute_result"
    }
   ],
   "source": [
    "3 * 8"
   ]
  },
  {
   "cell_type": "code",
   "execution_count": 4,
   "id": "bca97284",
   "metadata": {},
   "outputs": [
    {
     "data": {
      "text/plain": [
       "8.0"
      ]
     },
     "execution_count": 4,
     "metadata": {},
     "output_type": "execute_result"
    }
   ],
   "source": [
    "(33+7) / 5"
   ]
  },
  {
   "cell_type": "markdown",
   "id": "a4e616ca",
   "metadata": {},
   "source": [
    "##### <span style=\"color: pink;\">**Question 2**\n"
   ]
  },
  {
   "cell_type": "code",
   "execution_count": 5,
   "id": "1d2904ed",
   "metadata": {},
   "outputs": [
    {
     "data": {
      "text/plain": [
       "3.0"
      ]
     },
     "execution_count": 5,
     "metadata": {},
     "output_type": "execute_result"
    }
   ],
   "source": [
    "1 + 2."
   ]
  },
  {
   "cell_type": "code",
   "execution_count": 6,
   "id": "58ae479a",
   "metadata": {},
   "outputs": [
    {
     "data": {
      "text/plain": [
       "3"
      ]
     },
     "execution_count": 6,
     "metadata": {},
     "output_type": "execute_result"
    }
   ],
   "source": [
    "1 + 2"
   ]
  },
  {
   "cell_type": "markdown",
   "id": "d40be4bc",
   "metadata": {},
   "source": [
    "##### For 1 + 2. , the output was 3.0 (a float). For 1 + 2, the output was 3 (an integer). The data types are different because in the first line of code, the addition expression consists of a float, due to which python gave the answer in float form. The second line of consisted of an addition expression with only integers, due to which python gave the answer in integer form"
   ]
  },
  {
   "cell_type": "markdown",
   "id": "9dbfba1b",
   "metadata": {},
   "source": [
    "##### <span style=\"color: purple;\">**Question 3**\n"
   ]
  },
  {
   "cell_type": "code",
   "execution_count": 8,
   "id": "edf44751",
   "metadata": {},
   "outputs": [
    {
     "name": "stdout",
     "output_type": "stream",
     "text": [
      "1\n",
      "4\n",
      "9\n",
      "16\n",
      "25\n"
     ]
    }
   ],
   "source": [
    "for n in range(1, 6):\n",
    "    print(n ** 2)"
   ]
  },
  {
   "cell_type": "markdown",
   "id": "87cf7329",
   "metadata": {},
   "source": [
    "##### <span style=\"color: blue;\">**Question 4**\n"
   ]
  },
  {
   "cell_type": "code",
   "execution_count": 15,
   "id": "ea731d57",
   "metadata": {},
   "outputs": [
    {
     "name": "stdout",
     "output_type": "stream",
     "text": [
      "1\n",
      "4\n",
      "9\n",
      "16\n",
      "25\n",
      "36\n",
      "49\n",
      "64\n",
      "81\n",
      "100\n",
      "121\n",
      "144\n",
      "169\n",
      "196\n",
      "225\n",
      "256\n",
      "289\n",
      "324\n",
      "361\n",
      "400\n",
      "441\n",
      "484\n",
      "529\n",
      "576\n",
      "625\n",
      "676\n",
      "729\n",
      "784\n",
      "841\n",
      "900\n",
      "961\n",
      "32\n"
     ]
    }
   ],
   "source": [
    "i = 1 \n",
    "# Create a loop that prints the value of i ** 2, increment the value of i by 1 until the value of i ** 2 exceeds 1000\n",
    "# Print the value assigned to i after the loop has completed\n",
    "while i ** 2 <= 1000:\n",
    "    print(i ** 2)\n",
    "    i += 1\n",
    "print(i)"
   ]
  },
  {
   "cell_type": "markdown",
   "id": "ab4cc716",
   "metadata": {},
   "source": [
    "#### The solution is i = 32 because after the loop ends, \"i\" will have been incremented to 32. The loop prints the square of all the numbers from i = 1 to i = 31, and stops before printing 32^2. Since 32^2 is greater than 1000, it doesn't print 32^2, it only prints the value of i, which is 32 (because it stops there). "
   ]
  },
  {
   "cell_type": "markdown",
   "id": "58d926f4",
   "metadata": {},
   "source": []
  }
 ],
 "metadata": {
  "kernelspec": {
   "display_name": "PUBH1142",
   "language": "python",
   "name": "python3"
  },
  "language_info": {
   "codemirror_mode": {
    "name": "ipython",
    "version": 3
   },
   "file_extension": ".py",
   "mimetype": "text/x-python",
   "name": "python",
   "nbconvert_exporter": "python",
   "pygments_lexer": "ipython3",
   "version": "3.12.9"
  }
 },
 "nbformat": 4,
 "nbformat_minor": 5
}
