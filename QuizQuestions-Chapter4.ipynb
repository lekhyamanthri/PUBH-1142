{
 "cells": [
  {
   "cell_type": "markdown",
   "id": "10561163",
   "metadata": {},
   "source": [
    "# *Quiz 4 Questions*"
   ]
  },
  {
   "cell_type": "markdown",
   "id": "280e48b8",
   "metadata": {},
   "source": [
    "###  <span style=\"color: black;\">**Question 1**: What is the difference between a spreadsheet and a database? </span>\n",
    "##### <span style=\"color: black;\">**Answer**: A spreadsheet is a file that contains many rows and columns, and is used for organizing/sorting data in an orderly manner. It is often used for storing, manipulating and analyzing data in tabular form. The most popular spreasheet software is Microsoft Excel. On the other hand, a database is a structured set of data. It is a collection of information that can easily be managed. Databases can store information in an organized manner. They are managed by a Database Management System, which provides users with the tools to edit data or generate reports. "
   ]
  },
  {
   "cell_type": "markdown",
   "id": "8bce107d",
   "metadata": {},
   "source": [
    "###  <span style=\"color: black;\">**Question 2**: What are the advantages and disadvantages of using a spreadsheet for health data management? </span>\n",
    "##### <span style=\"color: black;\">**Answer**: The advantages of using a spreadsheet for health data management (a CSV file) are: they are universal and compatible, simple to use, small in size and it is easy to easy import health data. A disadvantage is that they do not support features such as cell formattiing, formulas, charts, or images that other formats like XLSX support. "
   ]
  },
  {
   "cell_type": "markdown",
   "id": "652fba22",
   "metadata": {},
   "source": [
    "###  <span style=\"color: black;\">**Question 3**: What are the advantages and disadvantages of using a database for health data management?</span>\n",
    "##### <span style=\"color: black;\">**Answer**: Advantages: they help in clinical decicion support, research, public health reporting, patient care management and health policy development. Disadvantages: takes a lot of planning and takes a lot of effort. "
   ]
  },
  {
   "cell_type": "markdown",
   "id": "62ac0a28",
   "metadata": {},
   "source": [
    "###  <span style=\"color: black;\">**Question 4**: What are some examples of tasks that can be performed using a spreadsheet?  </span>\n",
    "##### <span style=\"color: black;\">**Answer**: Some tasks that can be performed using a spreadsheet are: calculaing the sum of a range of cells and finding the average of a set of values. "
   ]
  },
  {
   "cell_type": "markdown",
   "id": "1b270200",
   "metadata": {},
   "source": [
    "###  <span style=\"color: black;\">**Question 5**: What are some examples of tasks that can be performed using a database?  </span>\n",
    "##### <span style=\"color: black;\">**Answer**: A task that can be performed using a database is database normalization. This is a process used in relational database design to organize data to reduce redundancy and improve data integrity. The primary objective of normalization is to eliminate anomalies that can occur when data is added, modified or deleted, which can lead to the loss of data consistency.  "
   ]
  },
  {
   "cell_type": "markdown",
   "id": "71af6566",
   "metadata": {},
   "source": [
    "###  <span style=\"color: black;\">**Question 6**: What are some examples of tasks that can be performed using both a spreadsheet and a database?  </span>\n",
    "##### <span style=\"color: black;\">**Answer**: Both spreadsheets and databases offer capabilities for storing, organizing and analyzing health data. "
   ]
  },
  {
   "cell_type": "markdown",
   "id": "d2364968",
   "metadata": {},
   "source": [
    "###  <span style=\"color: black;\">**Question 7**: What are some examples of tasks that can be performed using neither a spreadsheet nor a database?  </span>\n",
    "##### <span style=\"color: black;\">**Answer**: Technical tasks, such as software development, 3D modelling and system administration or DevOps tasks cannot be performed with a spreadsheet or database. "
   ]
  },
  {
   "cell_type": "markdown",
   "id": "37339633",
   "metadata": {},
   "source": [
    "###  <span style=\"color: black;\">**Question 8**: What are some examples of tasks that can be performed using a spreadsheet but not a database?  </span>\n",
    "##### <span style=\"color: black;\">**Answer**: Some tasks that can be performed with a spreadsheet but not a database are: statistical data analysis and data visualization. "
   ]
  },
  {
   "cell_type": "markdown",
   "id": "a91c0c74",
   "metadata": {},
   "source": [
    "###  <span style=\"color: black;\">**Question 9**: WWhat are some examples of tasks that can be performed using a database but not a spreadsheet?  </span>\n",
    "##### <span style=\"color: black;\">**Answer**: A task that can be performed using a database but not a spreadsheet is database normalization(a process used in relational database design to organize data to reduce redundancy and improve data integrity).\n"
   ]
  },
  {
   "cell_type": "markdown",
   "id": "231af7dd",
   "metadata": {},
   "source": [
    "###  <span style=\"color: black;\">**Question 10**: What are some examples of tasks that can be performed using both a spreadsheet and a database?  </span>\n",
    "##### <span style=\"color: black;\">**Answer**: Both spreadsheets and databases offer capabilities for storing, organizing and analyzing health data. "
   ]
  },
  {
   "cell_type": "markdown",
   "id": "3f160b1b",
   "metadata": {},
   "source": []
  }
 ],
 "metadata": {
  "language_info": {
   "name": "python"
  }
 },
 "nbformat": 4,
 "nbformat_minor": 5
}
