{
 "cells": [
  {
   "cell_type": "markdown",
   "id": "c8e4248d",
   "metadata": {},
   "source": [
    "# Question 1: How do you import the Seaborn package in Python?\n",
    "\n",
    "#### import seaborn as sns"
   ]
  },
  {
   "cell_type": "markdown",
   "id": "3e61d76e",
   "metadata": {},
   "source": [
    "# Question 2: How do you create a scatter plot in Seaborn for variables x and y in a DataFrame df?\n",
    "\n",
    "#### import seaborn as sns\n",
    "\n",
    "#### sns.scatterplot(data=df, x='x', y='y')\n"
   ]
  },
  {
   "cell_type": "markdown",
   "id": "b73ef018",
   "metadata": {},
   "source": [
    "# Question 3: How do you create a line plot in Seaborn for variables x and y in a DataFrame df?\n",
    "\n",
    "#### import seaborn as sns\n",
    "\n",
    "#### sns.lineplot(data=df, x='x', y='y')\n"
   ]
  },
  {
   "cell_type": "markdown",
   "id": "1ab1a491",
   "metadata": {},
   "source": [
    "# Question 4: How do you create a histogram in Seaborn for a variable x in a DataFrame df?\n",
    "\n",
    "#### import seaborn as sns\n",
    "\n",
    "#### sns.histplot(data=df, x='x')\n"
   ]
  },
  {
   "cell_type": "markdown",
   "id": "fc692027",
   "metadata": {},
   "source": [
    "# Question 5: How do you create a stacked histogram in Seaborn for variables x and 'hue' y in a DataFrame df?\n",
    "\n",
    "#### import seaborn as sns\n",
    "\n",
    "#### sns.histplot(data=df, x='x', hue='y', multiple='stack')\n"
   ]
  },
  {
   "cell_type": "markdown",
   "id": "4f6e3e75",
   "metadata": {},
   "source": [
    "# Question 6: How do you create a heatmap in Seaborn for a variable x and y in a DataFrame df?\n",
    "\n",
    "#### import seaborn as sns\n",
    "\n",
    "#### heatmap_data = df.pivot_table(index='x', columns='y', values='value')\n",
    "\n",
    "#### sns.heatmap(heatmap_data)\n",
    "\n"
   ]
  },
  {
   "cell_type": "markdown",
   "id": "33065497",
   "metadata": {},
   "source": [
    "# Question 7: How do you create a box plot in Seaborn for variables x and y in a DataFrame df?\n",
    "\n",
    "#### import seaborn as sns\n",
    "\n",
    "#### sns.boxplot(data=df, x='x', y='y')\n"
   ]
  },
  {
   "cell_type": "markdown",
   "id": "20ecf47d",
   "metadata": {},
   "source": [
    "# Question 8: How do you create a violin plot in Seaborn for variables x and y in a DataFrame df?\n",
    "\n",
    "#### import seaborn as sns\n",
    "#### sns.violinplot(data=df, x='x', y='y')\n"
   ]
  },
  {
   "cell_type": "markdown",
   "id": "0a9e4b79",
   "metadata": {},
   "source": [
    "# Question 9: How do you create a bar plot in Seaborn for variables x and y in a DataFrame df?\n",
    "\n",
    "#### import seaborn as sns\n",
    "\n",
    "#### sns.barplot(data=df, x='x', y='y')\n"
   ]
  },
  {
   "cell_type": "markdown",
   "id": "970d2560",
   "metadata": {},
   "source": [
    "# Question 10: How do you add a title to a Seaborn plot assigned to the variable ax with the title 'My Title'?\n",
    "\n",
    "#### ax.set_title('My Title')\n"
   ]
  },
  {
   "cell_type": "markdown",
   "id": "911c4608",
   "metadata": {},
   "source": [
    "# Question 11: How do you save a Seaborn plot ax to a file named 'output.png'?\n",
    "\n",
    "#### ax.figure.savefig('output.png')\n"
   ]
  },
  {
   "cell_type": "markdown",
   "id": "c9935c08",
   "metadata": {},
   "source": [
    "# Question 12: How do you set the x and y axis labels to 'X Label' and 'Y Label' respectively for a Seaborn plot ax?\n",
    "\n",
    "#### ax.set_xlabel('X Label')\n",
    "#### ax.set_ylabel('Y Label')\n"
   ]
  },
  {
   "cell_type": "markdown",
   "id": "ed00057f",
   "metadata": {},
   "source": [
    "# Question 13: How do you change the color palette of a Seaborn plot to 'Blues'?\n",
    "\n",
    "#### sns.set_palette('Blues')\n"
   ]
  },
  {
   "cell_type": "markdown",
   "id": "c7d4a6c0",
   "metadata": {},
   "source": [
    "# Question 14: How do you display a Seaborn plot with a logarithmic scale on the y-axis?\n",
    "\n",
    "\n",
    "#### import seaborn as sns\n",
    "#### import matplotlib.pyplot as plt\n",
    "\n",
    "#### sns.lineplot(data=df, x='x', y='y')\n",
    "#### plt.yscale('log')\n",
    "#### plt.show()\n"
   ]
  },
  {
   "cell_type": "markdown",
   "id": "e82c4887",
   "metadata": {},
   "source": [
    "# Question 15: How do you add a regression line to a scatter plot in Seaborn for variables x and y in a DataFrame df?\n",
    "\n",
    "#### import seaborn as sns\n",
    "\n",
    "#### sns.regplot(data=df, x='x', y='y')\n"
   ]
  },
  {
   "cell_type": "markdown",
   "id": "c7559296",
   "metadata": {},
   "source": []
  }
 ],
 "metadata": {
  "language_info": {
   "name": "python"
  }
 },
 "nbformat": 4,
 "nbformat_minor": 5
}
