{
 "cells": [
  {
   "cell_type": "markdown",
   "id": "47d505e3",
   "metadata": {},
   "source": [
    "# Question 1: How do you define a list in Python?\n",
    "\n",
    "#### A Python list can be created using square bracket notation, containing elements that are seperated by commas. L = [1, 0.2, 'Hello']"
   ]
  },
  {
   "cell_type": "markdown",
   "id": "6398c948",
   "metadata": {},
   "source": [
    "# Question 2: How do you access the third element of a Python list named my_list?\n",
    "\n",
    "#### my_list[2]"
   ]
  },
  {
   "cell_type": "markdown",
   "id": "420e530f",
   "metadata": {},
   "source": [
    "# Question 3: How can you add the element \"new_item\" to the end of an existing list named my_list?\n",
    "my_list.append('new_item')"
   ]
  },
  {
   "cell_type": "markdown",
   "id": "832d379d",
   "metadata": {},
   "source": [
    "# Question 4: How do you create a Python tuple with the items \"apple\", \"banana\", and \"cherry\"?\n",
    "#### my_tuple = (\"apple\", \"bananas\", \"cherry\") \n",
    "\n",
    "\n",
    "\n"
   ]
  },
  {
   "cell_type": "markdown",
   "id": "1e5d19b9",
   "metadata": {},
   "source": [
    "# Question 5: How do you access the first element of a Python tuple named my_tuple?\n",
    "\n",
    "#### my_tuple[0]"
   ]
  },
  {
   "cell_type": "markdown",
   "id": "f0a95301",
   "metadata": {},
   "source": [
    "# Question 6: How do you define a dictionary in Python with keys \"name\", \"age\" and values \"John Doe\", 30?\n",
    "\n",
    "#### my_dict = {'name': 'Alice' , 'age': '30'}"
   ]
  },
  {
   "cell_type": "markdown",
   "id": "7f24fe1e",
   "metadata": {},
   "source": [
    "# Question 7: How can you retrieve the value for the key \"name\" from the dictionary my_dict\n",
    "\n",
    "#### my_dict['name']"
   ]
  },
  {
   "cell_type": "markdown",
   "id": "797cebf6",
   "metadata": {},
   "source": [
    "# Question 8: How can you change the value associated with the key \"age\" in the dictionary my_dict to 35?\n",
    "\n",
    "#### my_dict['age'] = 35"
   ]
  },
  {
   "cell_type": "markdown",
   "id": "aa2005c3",
   "metadata": {},
   "source": [
    "# Question 9: How can you add a new key-value pair \"city\":\"New York\" to the dictionary my_dict?\n",
    "\n",
    "#### my_dict['city'] = 'New York'"
   ]
  },
  {
   "cell_type": "markdown",
   "id": "54b2f540",
   "metadata": {},
   "source": [
    "# Question 10: How do you create a set in Python with the items \"apple\", \"banana\", and \"cherry\"?\n",
    "#### my_set = {'apple', 'banana', 'cherry'}\n",
    "\n"
   ]
  },
  {
   "cell_type": "markdown",
   "id": "f634c2a9",
   "metadata": {},
   "source": [
    "# Question 11: How do you add the item \"orange\" to an existing set my_set?\n",
    "\n",
    "#### my_set.add('orange')"
   ]
  },
  {
   "cell_type": "markdown",
   "id": "291ca394",
   "metadata": {},
   "source": [
    "# Question 12: How do you remove the item \"banana\" from the set my_set?\n",
    "\n",
    "#### my_set.discard('banana')"
   ]
  },
  {
   "cell_type": "markdown",
   "id": "a05bcfe6",
   "metadata": {},
   "source": [
    "# Question 13: What is the length of a list my_list with elements [1, 2, 3, 4, 5]?\n",
    "\n",
    "#### The length of the list is 5.\n",
    "\n"
   ]
  },
  {
   "cell_type": "markdown",
   "id": "a6d1f5e4",
   "metadata": {},
   "source": [
    "# Question 14: What will be the result of my_list * 2 if my_list is [1, 2, 3]?\n",
    "\n",
    "#### [1, 2, 3, 1, 2, 3]\n"
   ]
  },
  {
   "cell_type": "markdown",
   "id": "fd4e9e4c",
   "metadata": {},
   "source": [
    "# Question 15: What is the result of set([1,2,2,3,4,4,4,5,5])?\n",
    "\n",
    "#### {1, 2, 3, 4, 5}\n",
    "\n"
   ]
  },
  {
   "cell_type": "markdown",
   "id": "73996e06",
   "metadata": {},
   "source": []
  }
 ],
 "metadata": {
  "language_info": {
   "name": "python"
  }
 },
 "nbformat": 4,
 "nbformat_minor": 5
}
