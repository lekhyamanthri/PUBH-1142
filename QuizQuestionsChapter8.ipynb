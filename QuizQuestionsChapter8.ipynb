{
 "cells": [
  {
   "cell_type": "markdown",
   "id": "8b5247f7",
   "metadata": {},
   "source": [
    "# Question 1: How do you import the pandas library in Python?\n",
    "\n",
    "#### import pandas as pd"
   ]
  },
  {
   "cell_type": "markdown",
   "id": "bf5e28bc",
   "metadata": {},
   "source": [
    "# Question 2: How do you read a CSV file named data.csv into a pandas DataFrame?\n",
    "\n",
    "#### import pandas as pd \n",
    "#### df = pd.read_csv('data.csv')\n",
    "\n"
   ]
  },
  {
   "cell_type": "markdown",
   "id": "db6fc561",
   "metadata": {},
   "source": [
    "# Question 3: How do you display the first 5 rows of a DataFrame named df?\n",
    "\n",
    "#### df.head(5)"
   ]
  },
  {
   "cell_type": "markdown",
   "id": "dfaff36e",
   "metadata": {},
   "source": [
    "# Question 4: How do you find the number of rows and columns in a DataFrame df?\n",
    "\n",
    "#### df.shape"
   ]
  },
  {
   "cell_type": "markdown",
   "id": "8d3902c3",
   "metadata": {},
   "source": [
    "# Question 5: How do you print the names of all the columns in a DataFrame df?\n",
    "\n",
    "#### print(df.columns)"
   ]
  },
  {
   "cell_type": "markdown",
   "id": "0b4d429e",
   "metadata": {},
   "source": [
    "# Question 6: How do you get the summary information of the DataFrame df including data types and non-null values?\n",
    "\n",
    "#### df.info()\n"
   ]
  },
  {
   "cell_type": "markdown",
   "id": "91c5b7da",
   "metadata": {},
   "source": [
    "# Question 7: How do you select only the rows in DataFrame df where the column A is greater than 5\n",
    "\n",
    "\n",
    "#### df[df['A'] > 5]\n"
   ]
  },
  {
   "cell_type": "markdown",
   "id": "855d061c",
   "metadata": {},
   "source": [
    "# Question 8: How do you select the columns A and B from the DataFrame df?\n",
    "\n",
    "#### df[['A', 'B']]\n"
   ]
  },
  {
   "cell_type": "markdown",
   "id": "f5e1df30",
   "metadata": {},
   "source": [
    "# Question 9: How do you rename the column A to Alpha in DataFrame df?\n",
    "\n",
    "#### df.rename(columns={'A': 'Alpha'}, inplace=True)\n"
   ]
  },
  {
   "cell_type": "markdown",
   "id": "ee31843e",
   "metadata": {},
   "source": [
    "# Question 10: How do you replace all occurrences of the value 999 in DataFrame df with nan?\n",
    "\n",
    "#### import numpy as np\n",
    "\n",
    "#### df.replace(999, np.nan, inplace=True)\n"
   ]
  },
  {
   "cell_type": "markdown",
   "id": "66d0d968",
   "metadata": {},
   "source": [
    "# Question 11: How do you drop all rows in DataFrame df that contain missing values?\n",
    "\n",
    "#### df.dropna(inplace=True)\n"
   ]
  },
  {
   "cell_type": "markdown",
   "id": "2a0bee68",
   "metadata": {},
   "source": [
    "# Question 12: How do you fill all missing values in DataFrame df with 0? \n",
    "\n",
    "#### df.fillna(0, inplace=True)\n"
   ]
  },
  {
   "cell_type": "markdown",
   "id": "d7cd7905",
   "metadata": {},
   "source": [
    "# Question 13: How do you calculate the mean of column A in DataFrame df?\n",
    "\n",
    "#### df['A'].mean()\n"
   ]
  },
  {
   "cell_type": "markdown",
   "id": "15f9f86a",
   "metadata": {},
   "source": [
    "# Question 14: How do you create a new column C in DataFrame df that is the sum of columns A and B?\n",
    "\n",
    " #### df['C'] = df['A'] + df['B']\n"
   ]
  },
  {
   "cell_type": "markdown",
   "id": "633df054",
   "metadata": {},
   "source": [
    "# Question 15: How do you save the DataFrame df to a CSV file named output.csv? (Find the solution by searching the pandas documentation.)\n",
    "\n",
    "#### df.to_csv(r'C:\\path\\to\\your\\directory\\output.csv', index=False)\n",
    "\n",
    "\n"
   ]
  },
  {
   "cell_type": "markdown",
   "id": "aaada1e5",
   "metadata": {},
   "source": []
  }
 ],
 "metadata": {
  "language_info": {
   "name": "python"
  }
 },
 "nbformat": 4,
 "nbformat_minor": 5
}
