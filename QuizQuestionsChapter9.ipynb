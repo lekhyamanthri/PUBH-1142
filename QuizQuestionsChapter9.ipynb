{
 "cells": [
  {
   "cell_type": "markdown",
   "id": "9d691c70",
   "metadata": {},
   "source": [
    "# Question 1: How do you import the pandas package in Python?\n",
    "\n",
    "#### import pandas as pd"
   ]
  },
  {
   "cell_type": "markdown",
   "id": "d59b1adf",
   "metadata": {},
   "source": [
    "# Question 2: What function do you use to read a CSV file in pandas?\n",
    "\n",
    "#### import pandas as pd\n",
    "\n",
    "#### df = pd.read_csv('file_path.csv')\n"
   ]
  },
  {
   "cell_type": "markdown",
   "id": "27c9ce5f",
   "metadata": {},
   "source": [
    "# Question 3: How do you display the first 5 rows of a DataFrame in pandas?\n",
    "\n",
    "#### df.head(5)"
   ]
  },
  {
   "cell_type": "markdown",
   "id": "56128ebc",
   "metadata": {},
   "source": [
    "# Question 4: How do you calculate the mean of a column named Age in a DataFrame named df?\n",
    "\n",
    "#### df['Age'].mean()\n",
    "\n"
   ]
  },
  {
   "cell_type": "markdown",
   "id": "ec1c50d7",
   "metadata": {},
   "source": [
    "# Question 5: How do you calculate the median of a column named Salary in a DataFrame named df?\n",
    "\n",
    "#### df['Salary'].median()\n"
   ]
  },
  {
   "cell_type": "markdown",
   "id": "fdf3b67b",
   "metadata": {},
   "source": [
    "# Question 6: How do you calculate the standard deviation of a column named Score in a DataFrame named df?\n",
    "\n",
    "\n",
    "#### df['Score'].std()\n"
   ]
  },
  {
   "cell_type": "markdown",
   "id": "149dc607",
   "metadata": {},
   "source": [
    "# Question 7: How do you find the number of missing values in each column of a DataFrame named df?\n",
    "\n",
    "#### df.isna().sum()\n"
   ]
  },
  {
   "cell_type": "markdown",
   "id": "687f8fe7",
   "metadata": {},
   "source": [
    "# Question 8: How do you calculate the correlation between two columns, Age and Salary, in a DataFrame named df?\n",
    "\n",
    "#### df['Age'].corr(df['Salary'])\n"
   ]
  },
  {
   "cell_type": "markdown",
   "id": "89e15357",
   "metadata": {},
   "source": [
    "# Question 9: How do you select a subset of a DataFrame df where the column Age is greater than 30?\n",
    "\n",
    "#### df[df['Age'] > 30]\n"
   ]
  },
  {
   "cell_type": "markdown",
   "id": "88ac4de7",
   "metadata": {},
   "source": [
    "# Question 10: How do you calculate the range (maximum - minimum) of a column named Score in a DataFrame named df?\n",
    "\n",
    "#### df['Score'].max() - df['Score'].min()\n"
   ]
  },
  {
   "cell_type": "markdown",
   "id": "d048abec",
   "metadata": {},
   "source": [
    "# Question 11: How do you group a DataFrame df by a column named Department and calculate the mean of Salary within each group?\n",
    "\n",
    "\n",
    "#### df.groupby('Department')['Salary'].mean()\n"
   ]
  },
  {
   "cell_type": "markdown",
   "id": "3887c0fb",
   "metadata": {},
   "source": [
    "# Question 12: How do you group a DataFrame df by two columns, Department and Job Title, and count the number of rows within each group?\n",
    "\n",
    "#### df.groupby(['Department', 'Job Title']).size()\n"
   ]
  },
  {
   "cell_type": "markdown",
   "id": "9c905a0f",
   "metadata": {},
   "source": [
    "# Question 13: How do you use the groupby method to find the maximum Age in each Department in a DataFrame df?\n",
    "\n",
    "\n",
    "#### df.groupby('Department')['Age'].max()\n"
   ]
  },
  {
   "cell_type": "markdown",
   "id": "784eafb3",
   "metadata": {},
   "source": [
    "# Question 14: How do you create a cross-tabulation table that shows the frequency count of Department (rows) and Job Title (columns) in a DataFrame df?\n",
    "\n",
    "#### pd.crosstab(df['Department'], df['Job Title'])\n"
   ]
  },
  {
   "cell_type": "markdown",
   "id": "ff7a6e64",
   "metadata": {},
   "source": [
    "# Question 15: How do you create a cross-tabulation table that shows the mean Salary for each combination of Department (rows) and Job Title (columns) in a DataFrame df?\n",
    "\n",
    "#### pd.pivot_table(df, values='Salary', index='Department', columns='Job Title', aggfunc='mean')\n"
   ]
  },
  {
   "cell_type": "markdown",
   "id": "8b4c2742",
   "metadata": {},
   "source": []
  }
 ],
 "metadata": {
  "language_info": {
   "name": "python"
  }
 },
 "nbformat": 4,
 "nbformat_minor": 5
}
