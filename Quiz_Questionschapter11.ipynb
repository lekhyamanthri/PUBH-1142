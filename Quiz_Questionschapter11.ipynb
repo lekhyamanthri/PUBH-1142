{
 "cells": [
  {
   "cell_type": "markdown",
   "id": "72877534",
   "metadata": {},
   "source": [
    "# Question 1: Select a random sample of 40 individuals from the population and assign the created numpy array to the variable sample.\n",
    "\n",
    "#### import numpy as np\n",
    "\n",
    "#### np.random.seed(12)\n",
    "\n",
    "#### sample = np.random.choice(dBP, 40, replace=False)\n",
    "\n",
    "#### print(sample)\n"
   ]
  },
  {
   "cell_type": "markdown",
   "id": "d5f17386",
   "metadata": {},
   "source": [
    "# Question 2: Calculate the sample mean and assign the value to the variable sample_mean.\n",
    "\n",
    "#### sample_mean = sample.mean()\n",
    "\n",
    "#### print(sample_mean)\n"
   ]
  },
  {
   "cell_type": "markdown",
   "id": "eb93e64f",
   "metadata": {},
   "source": [
    "# Question 3: Calculate the standard deviation of the sample and assign the value to the variable sample_std.\n",
    "\n",
    "#### sample_std = sample.std()\n",
    "\n",
    "#### print(sample_std)\n"
   ]
  },
  {
   "cell_type": "markdown",
   "id": "d0b9df2c",
   "metadata": {},
   "source": [
    "# Question 4: Calculate the standard error of the sample and assign the value to the variable standard_error.\n",
    "\n",
    "\n",
    "\n",
    "#### standard_error = sample_std / np.sqrt(len(sample))\n",
    "\n",
    "#### print(standard_error)\n"
   ]
  },
  {
   "cell_type": "markdown",
   "id": "b72f48f4",
   "metadata": {},
   "source": [
    "# Question 5: Calculate the confidence coefficient for a 95% confidence level, given the sample size and degrees of freedom, and assign the value to the variable c.\n",
    "\n",
    "#### from scipy.stats import t\n",
    "\n",
    "#### df = len(sample) - 1\n",
    "#### c = t.ppf(0.975, df)\n",
    "\n",
    "#### print(c)\n",
    "\n",
    "\n"
   ]
  },
  {
   "cell_type": "markdown",
   "id": "ad37a94d",
   "metadata": {},
   "source": [
    "# Question 6: Calculate the lower bound of the confidence interval for the sample mean and assign the result to the variable lower_bound.\n",
    "\n",
    "#### lower_bound = sample_mean - c * standard_error\n",
    "\n",
    "#### print(lower_bound)\n"
   ]
  },
  {
   "cell_type": "markdown",
   "id": "04cd23cb",
   "metadata": {},
   "source": [
    "# Question 7: Calculate the upper bound of the confidence interval for the sample mean and assign the result to the variable upper_bound.\n",
    "\n",
    "#### upper_bound = sample_mean + c * standard_error\n",
    "\n",
    "#### print(upper_bound)\n"
   ]
  },
  {
   "cell_type": "markdown",
   "id": "d4944c80",
   "metadata": {},
   "source": [
    "# Question 8: Create an array of 1000 bootstrapped sample means (using the sample size of 40) and assign the array to the variable bootstrapped_means and sort the values in the array in ascending order.\n",
    "\n",
    "#### bootstrapped_means = np.sort([np.mean(np.random.choice(sample, size=40, replace=True)) for _ in range(1000)])\n",
    "\n",
    "#### print(bootstrapped_means)\n",
    "\n",
    "\n",
    "\n"
   ]
  },
  {
   "cell_type": "markdown",
   "id": "b456cba8",
   "metadata": {},
   "source": [
    "# Question 9: Show the bootstrapped value representing the 2.5th percentile.\n",
    "\n",
    "\n",
    "#### percentile_2_5 = np.percentile(bootstrapped_means, 2.5)\n",
    "\n",
    "#### print(percentile_2_5)\n"
   ]
  },
  {
   "cell_type": "markdown",
   "id": "955eb036",
   "metadata": {},
   "source": [
    "# Question 10: Show the value bootstrapped representing the 97.5th percentile.\n",
    "\n",
    "#### percentile_97_5 = np.percentile(bootstrapped_means, 97.5)\n",
    "\n",
    "#### print(percentile_97_5)\n",
    "\n"
   ]
  },
  {
   "cell_type": "markdown",
   "id": "e868c76c",
   "metadata": {},
   "source": []
  }
 ],
 "metadata": {
  "language_info": {
   "name": "python"
  }
 },
 "nbformat": 4,
 "nbformat_minor": 5
}
